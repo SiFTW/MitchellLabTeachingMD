{
 "cells": [
  {
   "cell_type": "markdown",
   "metadata": {},
   "source": [
    "---\n",
    "# Molecular Dynamics Simulations in Python\n",
    "---\n",
    "\n",
    "## 1. Introduction <a id='l_overview'></a>\n",
    "\n",
    "Adapted from https://github.com/klyshko/md_python/blob/master/Lecture.ipynb\n",
    "\n",
    "The goal of this activity is to run a simple Molecular Dynamics (MD) simulation of macromolecules. We will learn how to run these simulations using the Python programmming language with the Python module `openmm`. This whole \"Notebook\" will guide you through setting up and running a simulation, and performing some simple analysis to help you understand what might be happening during your simulation.\n",
    "\n",
    "Questions to think about:\n",
    "- What happens to the end-to-end distance of your molecule during the simulation?\n",
    "- Are there any important structures that emerge in the Ramachandran plot?\n",
    "- What happens if you change the temperature of the simulation?\n",
    "\n",
    "First, here's some sections on why and how we use MD. This isn't mandatory reading, but may be of interest. If you want to skip straight to the activity, you can go straight to [MD Simulations of Proteins](#l_md) below.\n",
    "\n",
    "- [Newton's Laws of Motion](#l_newton) \n",
    "- [Proteins -- Different Levels of Structure](#l_proteins)\n",
    "- [Molecular Mechanics](#l_mm)\n",
    "- [MD Simulations of Proteins](#l_md)\n",
    "\n",
    "\n",
    "## 2. Newton's Laws of Motion <a id='l_newton'></a>\n",
    "\n",
    "Newton's 2nd law connects the kinematics (movements) of a body with its mechanics (total force acting on it) and defines the dynamic evolution of its position: \n",
    "\n",
    "$$m\\frac{d^2r(t)}{dt^2} = F = - \\nabla{U(r)},$$\n",
    "\n",
    "where $m$ is the mass, $r$ is the position, $F$ is the force and $U(r)$ is the potential energy, which depends only on the position of the body. \n",
    "If one knows the forces acting upon the body, one can find the position of the body at any moment $r(t)$, i.e. predict its dynamics. This can be done by solving Newton's equation of motion. It is a second order ODE that can be solved analytically for a few simple cases: constant force, harmonic oscillator, periodic force, drag force, etc.\n",
    "However, a more general approach is to use computers in order to solve the ODE numerically."
   ]
  },
  {
   "cell_type": "markdown",
   "metadata": {},
   "source": [
    "While we now have a basic knowledge of the purpose and methodology of simulations, we still need to understand what proteins are and why they are important.\n",
    "\n",
    "---\n",
    "## 3. Proteins, structure and functions <a id='l_proteins'></a>\n",
    "---\n",
    "<img src=\"pics/Protein_structure.png\" width=\"400\" align=\"right\">\n",
    "\n",
    "[Protein structure](https://en.wikipedia.org/wiki/Protein_structure) is the three-dimensional arrangement of atoms in a protein, which is a chain of amino acids. Proteins are polymers – specifically polypeptides – formed from sequences of 20 types of amino acids, the monomers of the polymer. A single amino acid monomer may also be called a residue, indicating a repeating unit of a polymer. To be able to perform their biological function, proteins fold into one or more specific spatial conformations driven by a number of non-covalent interactions such as:\n",
    "\n",
    "- hydrogen bonding \n",
    "- ionic interactions \n",
    "- Van der Waals forces\n",
    "- hydrophobic packing \n",
    "\n",
    "To understand the functions of proteins at a molecular level, it is often necessary to determine their three-dimensional structure using techniques such as X-ray crystallography, NMR spectroscopy, and others.\n",
    "\n",
    "### 3.1 Levels of structure:\n",
    "\n",
    "**Primary structure** of a protein refers to the sequence of amino acids in the polypeptide chain.\n",
    "\n",
    "**Secondary structure** refers to highly regular local sub-structures of the actual polypeptide backbone chain. There are two main types of secondary structure: the α-helix and the β-strand or β-sheets.\n",
    "\n",
    "**Tertiary structure** refers to the three-dimensional structure of monomeric and multimeric protein molecules. The α-helixes and β-sheets are folded into a compact globular structure. \n",
    "\n",
    "**Quaternary structure** is the three-dimensional structure consisting of two or more individual polypeptide chains (subunits) that operate as a single functional unit (multimer).\n",
    "\n",
    "\n",
    "### 3.2 Functions:\n",
    "\n",
    "- *Antibodies* - bind to specific foreign particles, ex: IgG \n",
    "- *Enzymes* - speed up chemical reactions, ex: Lysozyme\n",
    "- *Messengers* - transmit signals, ex: Growth hormone \n",
    "- *Structural components* - support for cells, ex: Tubulin\n",
    "- *Transport/storage* - bind and carry small molecules, ex: Hemoglobin\n",
    "\n",
    "\n",
    "**Lysozyme** is a protein-enzyme (found in tears, saliva, mucus and egg white) that is a part of the innate immune system with antimicrobial activity characterized by the ability to damage the cell wall of bacteria. Bacteria have polysaccharides (sugars) in their cell wall, that bind to the groove, and lysozyme cuts the bond and destroys bacteria.  \n",
    "\n",
    "|  ![Protein Sequence in DNA](pics/LysozymeSequence.png) | ![Protein Structure](pics/LysozymeStructure.gif) | ![Protein Strucure with Sugar](pics/LysozymeRock.gif) |\n",
    "|:-:|:-:|:-:|\n",
    "|  Sequence | Structure | Function  |\n",
    "\n",
    "Figure credit: [C.Ing](https://github.com/cing/HackingStructBiolTalk) and [wikipedia](https://en.wikipedia.org/wiki/Protein_structure)\n"
   ]
  },
  {
   "cell_type": "markdown",
   "metadata": {},
   "source": [
    "---\n",
    "## 4. Molecular Mechanics <a id='l_mm'></a>\n",
    "---\n",
    "\n",
    "Since we now know what proteins are and why these molecular machines are important, we consider the method to model them. Our system consists of thousands particles (atoms of the protein plus atoms of surrounding water) and they all are connected via a complex potential energy function.\n",
    "\n",
    "An all-atom potential energy function $V$ is usually given by the sum of the bonded terms ($V_b$) and non-bonded terms ($V_{nb}$), i.e.\n",
    "\n",
    "$$V = V_{b} + V_{nb},$$\n",
    "\n",
    "where the bonded potential includes the harmonic (covalent) bond part, the harmonic angle and\n",
    "the two types of torsion (dihedral) angles: proper and improper. As it can be seen, these functions are mostly harmonic potentials \n",
    "\n",
    "$$V_{b} = \\sum_{bonds}\\frac{1}{2}K_b(b-b_0)^2 + \\sum_{angles}K_{\\theta}(\\theta-\\theta_0)^2 + \\sum_{dihedrals}K_{\\phi}(1-cos(n\\phi - \\phi_0)) + \\sum_{impropers}K_{\\psi}(\\psi-\\psi_0)^2$$\n",
    "\n",
    "For example, $b$ and $\\theta$ represent the distance between two atoms and the angle between two\n",
    "adjacent bonds; $\\phi$ and $\\psi$ are dihedral (torsion) angles. These can be evaluated for all the\n",
    "atoms from their current positions. Also, $K_b$, $K_\\theta$, $K_\\phi$, and $K_\\psi$ are the spring constants, associated\n",
    "with bond vibrations, bending of bond angles, and conformational fluctuations in dihedral and\n",
    "improper angles around some equilibrium values $b_0$, $\\theta_0$, $\\phi_0$, and $\\psi_0$, respectively. \n",
    "\n",
    "The non-bonded part of the potential energy function is represented by the electrostatic and van der Waals potentials, i.e.\n",
    "\n",
    "$$V_{nb} = \\sum_{i,j}\\left(\\frac{q_{i}q_{j}}{4\\pi\\varepsilon_{0}\\varepsilon r_{ij}} + \\varepsilon_{ij}\\left[\\left(\\frac{\\sigma^{min}_{ij}}{r_{ij}}\\right)^{12}-2\\left(\\frac{\\sigma^{min}_{ij}}{r_{ij}}\\right)^{6}\\right]\\right)$$\n",
    "\n",
    "where $r_{ij}$ is the distance between two interacting atoms, $q_i$ and $q_j$ are their electric charges; $\\varepsilon$ and\n",
    "$\\varepsilon_0$ are electric and dielectric constant; $\\varepsilon_{ij} = \\sqrt{\\varepsilon_i\\varepsilon_j}$ and\n",
    "$\\sigma_{ij} = \\frac{\\sigma_i + \\sigma_j}{2}$ are van der Waals parameters for atoms $i$ and $j$.\n",
    "\n",
    "**Importantly, each force field has its own set of parameters, which are different for different types of atoms.**\n",
    "\n",
    "![](pics/ff.png)\n"
   ]
  },
  {
   "cell_type": "markdown",
   "metadata": {},
   "source": [
    "## 5. Molecular dynamics of proteins <a id='l_md'></a>\n",
    "---\n",
    "\n",
    "[**Molecular dynamics (MD)**](https://en.wikipedia.org/wiki/Molecular_dynamics) is a computer simulation method for studying the physical movements of atoms and molecules, i.e. their dynamical evolution. \n",
    "\n",
    "In the most common version, the trajectories of atoms and molecules are determined by numerically solving Newton's equations of motion for a system of interacting particles, where forces between the particles and their potential energies are often calculated using  [molecular mechanics force fields](#l_mm). \n",
    "\n",
    "\n",
    "\n",
    "Now with all that intellectual equipment, we can start running legit Molecular Dynamics simulations. All we need is an initial structure of the protein and software that computes its dynamics efficiently.\n"
   ]
  },
  {
   "cell_type": "markdown",
   "metadata": {},
   "source": [
    "### Procedure:\n",
    "1. Load initial coordinates of protein atoms (from `*.pdb` file).\n",
    "2. Choose force field parameters.\n",
    "3. Choose parameters of the experiment: temperature, pressure, box size, solvation, boundary conditions.\n",
    "4. Choose integrator, i.e. algorithm for solving equation of motion.\n",
    "5. Run simulation, save coordinates time to time (to `*.dcd` file).\n",
    "6. Visualize the trajectory.\n",
    "7. Perform the analysis."
   ]
  },
  {
   "cell_type": "markdown",
   "metadata": {},
   "source": [
    "These are the Python libraries we are going to need today:\n",
    "\n",
    "1. [nglview](http://nglviewer.org/nglview/latest/index.html#installation) - module to visualize molecules\n",
    "2. [mdanalysis](https://www.mdanalysis.org/pages/installation_quick_start/) - module to analyze MD trajectory\n",
    "3. [openmm](http://docs.openmm.org/latest/userguide/application.html#installing-openmm) - module to run MD simulation\n",
    "\n",
    "To run the simulation, click on each cell (box) in turn and click the **Run** button (or press `shift+Return` on your keyboard). Each cell has finished running when the * symbol turns to a number. You don't need to write any code for this exercise! "
   ]
  },
  {
   "cell_type": "code",
   "execution_count": 1,
   "metadata": {},
   "outputs": [
    {
     "data": {
      "application/vnd.jupyter.widget-view+json": {
       "model_id": "ad45ded211ff4f99930489bee8481144",
       "version_major": 2,
       "version_minor": 0
      },
      "text/plain": []
     },
     "metadata": {},
     "output_type": "display_data"
    }
   ],
   "source": [
    "from openmm.app import *\n",
    "from openmm import *\n",
    "from simtk.unit import *\n",
    "import MDAnalysis as md\n",
    "import nglview as ng\n",
    "import numpy as np\n",
    "from sys import stdout\n",
    "import matplotlib.pyplot as plt\n",
    "import warnings\n",
    "\n",
    "warnings.simplefilter(\"ignore\")"
   ]
  },
  {
   "cell_type": "markdown",
   "metadata": {},
   "source": [
    "These files are already preloaded to a folder called `data`."
   ]
  },
  {
   "cell_type": "code",
   "execution_count": 2,
   "metadata": {},
   "outputs": [],
   "source": [
    "pdb0_file = 'data/villin_water.pdb'\n",
    "pdb1_file = 'data/polyALA.pdb'\n",
    "pdb2_file = 'data/polyGLY.pdb'\n",
    "#pdb3_file = 'data/YOURNAME.pdb' # only works for some of you, I couldn't get it to work for everyone :("
   ]
  },
  {
   "cell_type": "markdown",
   "metadata": {},
   "source": [
    "PDB files contain 3D structures of proteins that were resolved by experimental techniques. They can be downloaded from [ProteinDataBank](https://www.wwpdb.org/). Here we can see what a `.pdb` file looks like - remember our activity last week, where we looked at `.pdb` files? In this cell, we're loading the structure of [Villin](https://en.wikipedia.org/wiki/Villin), which is an actin binding protein expressed mainly in the brush border of the epithelium in vertebrates."
   ]
  },
  {
   "cell_type": "code",
   "execution_count": 3,
   "metadata": {},
   "outputs": [
    {
     "name": "stdout",
     "output_type": "stream",
     "text": [
      "REMARK    GENERATED BY TRJCONV\n",
      "\n",
      "HEADER    Villin N68H in explicit water\n",
      "\n",
      "REMARK    THIS IS A SIMULATION BOX\n",
      "\n",
      "CRYST1   49.163   45.981   38.869  90.00  90.00  90.00 P 1           1\n",
      "\n",
      "MODEL        0\n",
      "\n",
      "ATOM      1  N   LEU     1      25.160  14.160  19.440  1.00  0.00\n",
      "\n",
      "ATOM      2  H1  LEU     1      24.350  13.730  19.870  1.00  0.00\n",
      "\n",
      "ATOM      3  H2  LEU     1      25.980  13.680  19.760  1.00  0.00\n",
      "\n",
      "ATOM      4  H3  LEU     1      25.180  15.100  19.810  1.00  0.00\n",
      "\n",
      "ATOM      5  CA  LEU     1      25.090  13.920  17.980  1.00  0.00\n",
      "\n"
     ]
    }
   ],
   "source": [
    "file0 = open(pdb0_file, 'r')\n",
    "counter = 0\n",
    "for line in file0:\n",
    "    if counter < 10:\n",
    "        print(line)\n",
    "    counter += 1"
   ]
  },
  {
   "cell_type": "markdown",
   "metadata": {},
   "source": [
    "We can look at the protein via `nglview`:\n",
    "\n",
    "n.b. You might get a \"Warning\" when you run this cell - don't worry about it, you can ignore it and it won't affect your simulation."
   ]
  },
  {
   "cell_type": "code",
   "execution_count": 4,
   "metadata": {},
   "outputs": [
    {
     "name": "stderr",
     "output_type": "stream",
     "text": [
      "Warning: importing 'simtk.openmm' is deprecated.  Import 'openmm' instead.\n"
     ]
    },
    {
     "data": {
      "application/vnd.jupyter.widget-view+json": {
       "model_id": "49a68969f4f74c719f8ba54007e7939f",
       "version_major": 2,
       "version_minor": 0
      },
      "text/plain": [
       "NGLWidget()"
      ]
     },
     "metadata": {},
     "output_type": "display_data"
    },
    {
     "data": {
      "application/vnd.jupyter.widget-view+json": {
       "model_id": "2d4b9448d3c14e3f973a1f68fffaca06",
       "version_major": 2,
       "version_minor": 0
      },
      "text/plain": [
       "Tab(children=(Box(children=(Box(children=(Box(children=(Label(value='step'), IntSlider(value=1, min=-100)), la…"
      ]
     },
     "metadata": {},
     "output_type": "display_data"
    }
   ],
   "source": [
    "u = md.Universe(pdb0_file)\n",
    "ng.show_mdanalysis(u, gui=True)"
   ]
  },
  {
   "cell_type": "markdown",
   "metadata": {},
   "source": [
    "### Activity: MD simulation of protein folding into alpha-helix\n",
    "---\n",
    "\n",
    "Run a simulation of fully extended polyalanine `polyALA.pdb` for 200 picoseconds in a vacuo environment with T=300 K and see if it can fold to any secondary  structure. First, let's open `polyALA.pdb` so we can see what it looks like before we run a simulation."
   ]
  },
  {
   "cell_type": "code",
   "execution_count": 5,
   "metadata": {},
   "outputs": [
    {
     "data": {
      "application/vnd.jupyter.widget-view+json": {
       "model_id": "1ea02ea2b974445699599a32cc220675",
       "version_major": 2,
       "version_minor": 0
      },
      "text/plain": [
       "NGLWidget()"
      ]
     },
     "metadata": {},
     "output_type": "display_data"
    },
    {
     "data": {
      "application/vnd.jupyter.widget-view+json": {
       "model_id": "e57c5f2bf3b04ae4be1e4fb680830ace",
       "version_major": 2,
       "version_minor": 0
      },
      "text/plain": [
       "Tab(children=(Box(children=(Box(children=(Box(children=(Label(value='step'), IntSlider(value=1, min=-100)), la…"
      ]
     },
     "metadata": {},
     "output_type": "display_data"
    }
   ],
   "source": [
    "u = md.Universe(pdb1_file)\n",
    "ng.show_mdanalysis(u, gui=True)"
   ]
  },
  {
   "cell_type": "markdown",
   "metadata": {},
   "source": [
    "Now let's simulate it folding!"
   ]
  },
  {
   "cell_type": "code",
   "execution_count": 8,
   "metadata": {},
   "outputs": [
    {
     "name": "stdout",
     "output_type": "stream",
     "text": [
      "#\"Progress (%)\",\"Step\",\"Potential Energy (kJ/mole)\",\"Temperature (K)\"\n",
      "5.0%,5000,5149.912109375,276.5800504814996\n",
      "10.0%,10000,5260.07421875,300.0733877301387\n",
      "15.0%,15000,5270.94580078125,317.10339279176503\n",
      "20.0%,20000,5283.2060546875,284.7728120227239\n",
      "25.0%,25000,5178.3671875,287.32653112662433\n",
      "30.0%,30000,5243.642578125,291.8632165529862\n",
      "35.0%,35000,5087.9580078125,278.2455275946798\n",
      "40.0%,40000,5172.3115234375,296.45928458076173\n",
      "45.0%,45000,5136.03955078125,277.5702158611792\n",
      "50.0%,50000,5020.16650390625,309.15770397723514\n",
      "55.0%,55000,5006.12548828125,307.5153633514348\n",
      "60.0%,60000,5067.3701171875,294.9438749853179\n",
      "65.0%,65000,5005.2392578125,315.5921592606603\n",
      "70.0%,70000,5060.453125,303.33043443626957\n",
      "75.0%,75000,4878.083984375,317.5728977207086\n",
      "80.0%,80000,4874.7001953125,301.67086383821686\n",
      "85.0%,85000,4940.88720703125,256.8182764069782\n",
      "90.0%,90000,4899.4384765625,263.26403008431834\n",
      "95.0%,95000,4859.46923828125,308.32758669743015\n",
      "100.0%,100000,4819.33935546875,297.40625564715634\n",
      "Simulation complete!\n"
     ]
    }
   ],
   "source": [
    "### 1.loading initial coordinates\n",
    "pdb = PDBFile(pdb1_file) \n",
    "\n",
    "### 2.choosing a forcefield parameters\n",
    "ff = ForceField('amber10.xml') \n",
    "#ff = ForceField('charmm36.xml')  # use this force field instead if you're running a PDB file I've made!\n",
    "system = ff.createSystem(pdb.topology, nonbondedMethod=CutoffNonPeriodic)\n",
    "\n",
    "### 3. Choose parameters of the experiment: temperature, pressure, box size, solvation, boundary conditions, etc\n",
    "temperature = 300*kelvin\n",
    "frictionCoeff = 1/picosecond\n",
    "time_step = 0.002*picoseconds\n",
    "total_steps = 200*picoseconds / time_step\n",
    "\n",
    "### 4. Choose an algorithm (integrator)\n",
    "integrator = LangevinIntegrator(temperature, frictionCoeff, time_step)\n",
    "\n",
    "### 5. Run simulation, saving coordinates time to time:\n",
    "\n",
    "### 5a. Create a simulation object\n",
    "simulation = Simulation(pdb.topology, system, integrator)\n",
    "simulation.context.setPositions(pdb.positions)\n",
    "\n",
    "### 5b. Minimize energy\n",
    "simulation.minimizeEnergy()\n",
    "\n",
    "### 5c. Save coordinates to dcd file and energies to a standard output console:\n",
    "simulation.reporters.append(DCDReporter('data/polyALA_traj.dcd', 1000))\n",
    "simulation.reporters.append(StateDataReporter(stdout, 5000, step=True, potentialEnergy=True,\\\n",
    "                                              temperature=True, progress=True, totalSteps = total_steps))\n",
    "\n",
    "### 5d. Run!\n",
    "simulation.step(total_steps)\n",
    "\n",
    "print(\"Simulation complete!\")"
   ]
  },
  {
   "cell_type": "markdown",
   "metadata": {},
   "source": [
    "**Visualization**\n",
    "\n",
    "Let's look at the trajectory:"
   ]
  },
  {
   "cell_type": "code",
   "execution_count": 9,
   "metadata": {},
   "outputs": [
    {
     "data": {
      "application/vnd.jupyter.widget-view+json": {
       "model_id": "8faff4f50381417e90335b06765cf27b",
       "version_major": 2,
       "version_minor": 0
      },
      "text/plain": [
       "NGLWidget(max_frame=99)"
      ]
     },
     "metadata": {},
     "output_type": "display_data"
    },
    {
     "data": {
      "application/vnd.jupyter.widget-view+json": {
       "model_id": "800711a681ed4979b8bf1ecfde9dfdf6",
       "version_major": 2,
       "version_minor": 0
      },
      "text/plain": [
       "Tab(children=(Box(children=(Box(children=(Box(children=(Label(value='step'), IntSlider(value=1, min=-100)), la…"
      ]
     },
     "metadata": {},
     "output_type": "display_data"
    }
   ],
   "source": [
    "### 6. Visualization\n",
    "sys = md.Universe(pdb1_file, 'data/polyALA_traj.dcd')\n",
    "ng.show_mdanalysis(sys, gui=True)"
   ]
  },
  {
   "cell_type": "markdown",
   "metadata": {},
   "source": [
    "### Activity: Analysis of MD trajectory.\n",
    "---\n",
    "\n",
    "**End-to-end distance**:"
   ]
  },
  {
   "cell_type": "code",
   "execution_count": 10,
   "metadata": {},
   "outputs": [
    {
     "name": "stdout",
     "output_type": "stream",
     "text": [
      "Calculation completed!\n"
     ]
    }
   ],
   "source": [
    "### analysis of end-to-end distance\n",
    "\n",
    "## choose terminal atoms \n",
    "N_terminus = sys.select_atoms('resid 1 and name N')\n",
    "C_terminus = sys.select_atoms('resid 25 and name C')\n",
    "\n",
    "## go through the whole trajectory and compute distance between them for every frame\n",
    "dist = []\n",
    "for frame in sys.trajectory:\n",
    "    dist.append(np.linalg.norm(N_terminus.positions - C_terminus.positions))\n",
    "\n",
    "## the result is in the dist array    \n",
    "dist = np.array(dist) \n",
    "\n",
    "print(\"Calculation completed!\")"
   ]
  },
  {
   "cell_type": "markdown",
   "metadata": {},
   "source": [
    "We can plot end-to-end distance vs time:"
   ]
  },
  {
   "cell_type": "code",
   "execution_count": 11,
   "metadata": {},
   "outputs": [
    {
     "data": {
      "image/png": "[encoded data removed]",
      "text/plain": [
       "<Figure size 750x500 with 1 Axes>"
      ]
     },
     "metadata": {},
     "output_type": "display_data"
    }
   ],
   "source": [
    "plt.figure(figsize=(7.5,5))\n",
    "\n",
    "plt.plot( dist, '-k' )\n",
    "plt.xlabel('timesteps')\n",
    "plt.ylabel('end-to-end distance, A')\n",
    "\n",
    "plt.show()"
   ]
  },
  {
   "cell_type": "markdown",
   "metadata": {},
   "source": [
    "**[Ramachandran plot](https://en.wikipedia.org/wiki/Ramachandran_plot):**\n",
    "\n",
    "We'll plot the phi vs psi angle for each residue for the last 30 steps (blue) and first 30 steps (black) of the simulation. This will allow us to see how the structure changes over the course of the simulation. n.b. if you change the length of the simulation, you'll need to change the numbers in the brackets referring to the last 30 steps."
   ]
  },
  {
   "cell_type": "code",
   "execution_count": 12,
   "metadata": {},
   "outputs": [
    {
     "data": {
      "text/plain": [
       "<Figure size 640x480 with 0 Axes>"
      ]
     },
     "metadata": {},
     "output_type": "display_data"
    },
    {
     "data": {
      "image/png": "[encoded data removed]",
      "text/plain": [
       "<Figure size 800x800 with 1 Axes>"
      ]
     },
     "metadata": {},
     "output_type": "display_data"
    }
   ],
   "source": [
    "from MDAnalysis.analysis import dihedrals  ## module for dihedrals analysis\n",
    "plt.clf()\n",
    "ram1 = dihedrals.Ramachandran(sys).run(0,30) ## analyse for first 30 steps (black color)\n",
    "ram2 = dihedrals.Ramachandran(sys).run(70,100) ## analyse for last 30 steps (blue color) n.b. you will need to change the numbers in brackets if you change the length of the simulation!\n",
    "\n",
    "## ramachandran plot\n",
    "fig, ax = plt.subplots(figsize=(8,8))\n",
    "ram1.plot(ax=ax, color='k', marker='.')\n",
    "ram2.plot(ax=ax, color='b', marker='.')\n",
    "ax.arrow(20, 20, -40, -40, width=2, head_width=8, head_length=12, fc='b', ec='b')\n",
    "ax.text(30, 20, 'alpha region', color='blue', fontsize=20)\n",
    "ax.arrow(20, 150, -40, 0, width=2, head_width=8, head_length=12, fc='k', ec='k')\n",
    "ax.text(30, 150, 'beta region', fontsize=20)\n",
    "plt.show()"
   ]
  },
  {
   "cell_type": "markdown",
   "metadata": {},
   "source": [
    "<hr>"
   ]
  },
  {
   "cell_type": "markdown",
   "metadata": {},
   "source": [
    "## Bonus activities, if you have time!\n",
    "\n",
    "- Investigate what happens if you change the temperature in your simulation. You can do this by changing the value in the line `temperature = 300*kelvin`.\n",
    "\n",
    "- Try running a simulation/analysis of a polyglycine molecule and see what changes. You can do this by changing `pdb = PDBFile(pdb1_file)` to `pdb2_file` and re-running the cells.\n",
    "\n",
    "Extra challenging:\n",
    "- Try running a simulation/analysis of a molecule spelling your name with its amino acid code! You'll have to change `pdb3_file`, and you'll have to change the force field too or you'll get an error. You'll also have to change the residue for the end-to-end calculation from 25 to the length of your name (e.g. for `ARRAN.pdb` it'd be '5')."
   ]
  },
  {
   "cell_type": "code",
   "execution_count": null,
   "metadata": {},
   "outputs": [],
   "source": []
  }
 ],
 "metadata": {
  "kernelspec": {
   "display_name": "Python 3",
   "language": "python",
   "name": "python3"
  },
  "language_info": {
   "codemirror_mode": {
    "name": "ipython",
    "version": 3
   },
   "file_extension": ".py",
   "mimetype": "text/x-python",
   "name": "python",
   "nbconvert_exporter": "python",
   "pygments_lexer": "ipython3",
   "version": "3.8.8"
  }
 },
 "nbformat": 4,
 "nbformat_minor": 2
}
